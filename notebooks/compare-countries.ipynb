{
 "cells": [
  {
   "cell_type": "markdown",
   "metadata": {},
   "source": [
    "# Cross-Country Solar Data Comparison\n",
    "\n",
    "This notebook compares solar irradiance data across Benin, Sierra Leone, and Togo using object-oriented programming principles."
   ]
  },
  {
   "cell_type": "markdown",
   "metadata": {},
   "source": [
    "## Setup and Imports"
   ]
  },
  {
   "cell_type": "code",
   "metadata": {
    "ExecuteTime": {
     "end_time": "2025-05-21T09:25:18.305175Z",
     "start_time": "2025-05-21T09:25:18.302229Z"
    }
   },
   "source": [
    "import pandas as pd\n",
    "import numpy as np\n",
    "import matplotlib.pyplot as plt\n",
    "import seaborn as sns\n",
    "from scipy.stats import f_oneway"
   ],
   "outputs": [],
   "execution_count": 1
  },
  {
   "cell_type": "markdown",
   "metadata": {},
   "source": [
    "## Class Definitions"
   ]
  },
  {
   "cell_type": "markdown",
   "metadata": {},
   "source": [
    "### SolarDataSet Class"
   ]
  },
  {
   "cell_type": "code",
   "metadata": {
    "ExecuteTime": {
     "end_time": "2025-05-21T09:25:26.562352Z",
     "start_time": "2025-05-21T09:25:26.553936Z"
    }
   },
   "source": [
    "class SolarDataset:\n",
    "    def __init__(self, country_name, file_path):\n",
    "        self.country_name = country_name\n",
    "        self.file_path = file_path\n",
    "        self.data = None\n",
    "\n",
    "    def load_data(self):\n",
    "        self.data = pd.read_csv(self.file_path, parse_dates=[\"Timestamp\"])\n",
    "        #self.data.set_index('timestamp', inplace=True)\n",
    "\n",
    "    def clean_data(self):\n",
    "        self.data['GHI'] = self.data['GHI'].fillna(self.data['GHI'].median())\n",
    "\n",
    "    def compute_statistics(self):\n",
    "        return self.data[['GHI', 'DNI', 'DHI']].describe()\n"
   ],
   "outputs": [],
   "execution_count": 3
  },
  {
   "cell_type": "markdown",
   "metadata": {},
   "source": [
    "### CountryComparator Class"
   ]
  },
  {
   "cell_type": "code",
   "metadata": {
    "ExecuteTime": {
     "end_time": "2025-05-21T09:25:29.221697Z",
     "start_time": "2025-05-21T09:25:29.216607Z"
    }
   },
   "source": [
    "class CountryComparator:\n",
    "    def __init__(self, datasets):\n",
    "        self.datasets = datasets\n",
    "\n",
    "    def compare_means(self):\n",
    "        stats = {}\n",
    "        for dataset in self.datasets:\n",
    "            stats[dataset.country_name] = dataset.data[['GHI', 'DNI', 'DHI']].mean()\n",
    "        return pd.DataFrame(stats)\n",
    "    def compare_medians(self):\n",
    "        stats = {}\n",
    "        for dataset in self.datasets:\n",
    "            stats[dataset.country_name] = dataset.data[['GHI', 'DNI', 'DHI']].median()\n",
    "        return pd.DataFrame(stats)\n",
    "\n",
    "    def compare_std_devs(self):\n",
    "        stats = {}\n",
    "        for dataset in self.datasets:\n",
    "            stats[dataset.country_name] = dataset.data[['GHI', 'DNI', 'DHI']].std()\n",
    "        return pd.DataFrame(stats)\n",
    "\n",
    "    def perform_anova(self):\n",
    "        results = {}\n",
    "        for metric in ['GHI', 'DNI', 'DHI']:\n",
    "            samples = [ds.data[metric].dropna() for ds in self.datasets]\n",
    "            f_stat, p_val = f_oneway(*samples)\n",
    "            results[metric] = {'F-statistic': f_stat, 'p-value': p_val}\n",
    "        return pd.DataFrame(results).T\n"
   ],
   "outputs": [],
   "execution_count": 4
  },
  {
   "cell_type": "markdown",
   "metadata": {},
   "source": [
    "### VisualizationManager Class"
   ]
  },
  {
   "cell_type": "code",
   "metadata": {
    "ExecuteTime": {
     "end_time": "2025-05-21T09:25:34.765982Z",
     "start_time": "2025-05-21T09:25:34.745847Z"
    }
   },
   "source": [
    "class VisualizationManager:\n",
    "    def __init__(self, datasets):\n",
    "        self.datasets = datasets\n",
    "\n",
    "    def bar_chart(self):\n",
    "        # Step 1: Compute mean GHI for each dataset\n",
    "        mean_ghi = {\n",
    "            ds.country_name: ds.data['GHI'].mean()\n",
    "            for ds in [benin, sierraleone, togo]\n",
    "        }\n",
    "        mean_ghi = pd.Series(mean_ghi).sort_values(ascending=False)\n",
    "\n",
    "        # Step 2: Plot bar chart\n",
    "        plt.figure(figsize=(6, 4))\n",
    "        mean_ghi.plot(kind='bar')\n",
    "        plt.title('Average GHI by Country')\n",
    "        plt.ylabel('Mean GHI (W/m²)')\n",
    "        plt.xlabel('Country')\n",
    "        plt.xticks(rotation=0)\n",
    "        plt.tight_layout()\n",
    "        plt.show()\n",
    "\n",
    "    def plot_boxplots(self):\n",
    "        datasets = [benin, sierraleone, togo]\n",
    "        # Step 1: Combine Data\n",
    "        combined_data = pd.DataFrame()\n",
    "        for dataset in datasets:\n",
    "            temp_df = dataset.data[['GHI', 'DNI', 'DHI']].copy()\n",
    "            temp_df['country'] = dataset.country_name\n",
    "            combined_data = pd.concat([combined_data, temp_df])\n",
    "\n",
    "        # Step 2: Reshape Data\n",
    "        melted_data = pd.melt(combined_data, id_vars=['country'], value_vars=['GHI', 'DNI', 'DHI'],\n",
    "                            var_name='Metric', value_name='Value')\n",
    "\n",
    "        # Step 3: Plot Boxplots\n",
    "        sns.set(style=\"whitegrid\")\n",
    "        for metric in ['GHI', 'DNI', 'DHI']:\n",
    "            plt.figure(figsize=(8, 6))\n",
    "            sns.boxplot(x='country', y='Value',hue='country', data=melted_data[melted_data['Metric'] == metric],\n",
    "                        palette='Set2', legend='full')\n",
    "            plt.title(f'{metric} Comparison by Country')\n",
    "            plt.xlabel('Country')\n",
    "            plt.ylabel(metric)\n",
    "            plt.show()\n"
   ],
   "outputs": [],
   "execution_count": 5
  },
  {
   "cell_type": "markdown",
   "metadata": {},
   "source": [
    "## Data Loading"
   ]
  },
  {
   "cell_type": "code",
   "metadata": {
    "ExecuteTime": {
     "end_time": "2025-05-21T09:25:44.240574Z",
     "start_time": "2025-05-21T09:25:41.146533Z"
    }
   },
   "source": [
    "# Instantiate SolarDataset objects\n",
    "benin = SolarDataset('Benin', '../data/benin_clean.csv')\n",
    "sierraleone = SolarDataset('Sierra Leone', '../data/sierraleone_clean.csv')\n",
    "togo = SolarDataset('Togo', '../data/togo_clean.csv')\n",
    "\n",
    "# Load and clean data\n",
    "for dataset in [benin, sierraleone, togo]:\n",
    "    dataset.load_data()\n",
    "    dataset.clean_data()\n"
   ],
   "outputs": [],
   "execution_count": 6
  },
  {
   "cell_type": "markdown",
   "metadata": {},
   "source": [
    "## Statistical Analysis of Countries"
   ]
  },
  {
   "cell_type": "code",
   "metadata": {
    "ExecuteTime": {
     "end_time": "2025-05-21T09:25:47.837972Z",
     "start_time": "2025-05-21T09:25:47.467293Z"
    }
   },
   "source": [
    "# Compare datasets\n",
    "comparator = CountryComparator([benin, sierraleone, togo])\n",
    "mean_comparison = comparator.compare_means()\n",
    "median_comparison = comparator.compare_medians()\n",
    "std_comparison = comparator.compare_std_devs()\n",
    "anova_results = comparator.perform_anova()\n",
    "\n",
    "# Display results\n",
    "print(\"Mean Comparison:\")\n",
    "display(mean_comparison)\n",
    "\n",
    "print(\"\\nMedian Comparison:\")\n",
    "display(median_comparison)\n",
    "\n",
    "print(\"\\nStandard Deviation Comparison:\")\n",
    "display(std_comparison)\n",
    "\n",
    "print(\"\\nANOVA Results:\")\n",
    "display(anova_results)\n"
   ],
   "outputs": [
    {
     "name": "stdout",
     "output_type": "stream",
     "text": [
      "Mean Comparison:\n"
     ]
    },
    {
     "data": {
      "text/plain": [
       "          Benin  Sierra Leone        Togo\n",
       "GHI  240.559452    201.957515  230.555040\n",
       "DNI  167.187516    116.376337  151.258469\n",
       "DHI  115.358961    113.720571  116.444352"
      ],
      "text/html": [
       "<div>\n",
       "<style scoped>\n",
       "    .dataframe tbody tr th:only-of-type {\n",
       "        vertical-align: middle;\n",
       "    }\n",
       "\n",
       "    .dataframe tbody tr th {\n",
       "        vertical-align: top;\n",
       "    }\n",
       "\n",
       "    .dataframe thead th {\n",
       "        text-align: right;\n",
       "    }\n",
       "</style>\n",
       "<table border=\"1\" class=\"dataframe\">\n",
       "  <thead>\n",
       "    <tr style=\"text-align: right;\">\n",
       "      <th></th>\n",
       "      <th>Benin</th>\n",
       "      <th>Sierra Leone</th>\n",
       "      <th>Togo</th>\n",
       "    </tr>\n",
       "  </thead>\n",
       "  <tbody>\n",
       "    <tr>\n",
       "      <th>GHI</th>\n",
       "      <td>240.559452</td>\n",
       "      <td>201.957515</td>\n",
       "      <td>230.555040</td>\n",
       "    </tr>\n",
       "    <tr>\n",
       "      <th>DNI</th>\n",
       "      <td>167.187516</td>\n",
       "      <td>116.376337</td>\n",
       "      <td>151.258469</td>\n",
       "    </tr>\n",
       "    <tr>\n",
       "      <th>DHI</th>\n",
       "      <td>115.358961</td>\n",
       "      <td>113.720571</td>\n",
       "      <td>116.444352</td>\n",
       "    </tr>\n",
       "  </tbody>\n",
       "</table>\n",
       "</div>"
      ]
     },
     "metadata": {},
     "output_type": "display_data"
    },
    {
     "name": "stdout",
     "output_type": "stream",
     "text": [
      "\n",
      "Median Comparison:\n"
     ]
    },
    {
     "data": {
      "text/plain": [
       "     Benin  Sierra Leone  Togo\n",
       "GHI    1.8           0.3   2.1\n",
       "DNI   -0.1          -0.1   0.0\n",
       "DHI    1.6          -0.1   2.5"
      ],
      "text/html": [
       "<div>\n",
       "<style scoped>\n",
       "    .dataframe tbody tr th:only-of-type {\n",
       "        vertical-align: middle;\n",
       "    }\n",
       "\n",
       "    .dataframe tbody tr th {\n",
       "        vertical-align: top;\n",
       "    }\n",
       "\n",
       "    .dataframe thead th {\n",
       "        text-align: right;\n",
       "    }\n",
       "</style>\n",
       "<table border=\"1\" class=\"dataframe\">\n",
       "  <thead>\n",
       "    <tr style=\"text-align: right;\">\n",
       "      <th></th>\n",
       "      <th>Benin</th>\n",
       "      <th>Sierra Leone</th>\n",
       "      <th>Togo</th>\n",
       "    </tr>\n",
       "  </thead>\n",
       "  <tbody>\n",
       "    <tr>\n",
       "      <th>GHI</th>\n",
       "      <td>1.8</td>\n",
       "      <td>0.3</td>\n",
       "      <td>2.1</td>\n",
       "    </tr>\n",
       "    <tr>\n",
       "      <th>DNI</th>\n",
       "      <td>-0.1</td>\n",
       "      <td>-0.1</td>\n",
       "      <td>0.0</td>\n",
       "    </tr>\n",
       "    <tr>\n",
       "      <th>DHI</th>\n",
       "      <td>1.6</td>\n",
       "      <td>-0.1</td>\n",
       "      <td>2.5</td>\n",
       "    </tr>\n",
       "  </tbody>\n",
       "</table>\n",
       "</div>"
      ]
     },
     "metadata": {},
     "output_type": "display_data"
    },
    {
     "name": "stdout",
     "output_type": "stream",
     "text": [
      "\n",
      "Standard Deviation Comparison:\n"
     ]
    },
    {
     "data": {
      "text/plain": [
       "          Benin  Sierra Leone        Togo\n",
       "GHI  331.131327    298.495150  322.532347\n",
       "DNI  261.710501    218.652659  250.956962\n",
       "DHI  158.691074    158.946032  156.520714"
      ],
      "text/html": [
       "<div>\n",
       "<style scoped>\n",
       "    .dataframe tbody tr th:only-of-type {\n",
       "        vertical-align: middle;\n",
       "    }\n",
       "\n",
       "    .dataframe tbody tr th {\n",
       "        vertical-align: top;\n",
       "    }\n",
       "\n",
       "    .dataframe thead th {\n",
       "        text-align: right;\n",
       "    }\n",
       "</style>\n",
       "<table border=\"1\" class=\"dataframe\">\n",
       "  <thead>\n",
       "    <tr style=\"text-align: right;\">\n",
       "      <th></th>\n",
       "      <th>Benin</th>\n",
       "      <th>Sierra Leone</th>\n",
       "      <th>Togo</th>\n",
       "    </tr>\n",
       "  </thead>\n",
       "  <tbody>\n",
       "    <tr>\n",
       "      <th>GHI</th>\n",
       "      <td>331.131327</td>\n",
       "      <td>298.495150</td>\n",
       "      <td>322.532347</td>\n",
       "    </tr>\n",
       "    <tr>\n",
       "      <th>DNI</th>\n",
       "      <td>261.710501</td>\n",
       "      <td>218.652659</td>\n",
       "      <td>250.956962</td>\n",
       "    </tr>\n",
       "    <tr>\n",
       "      <th>DHI</th>\n",
       "      <td>158.691074</td>\n",
       "      <td>158.946032</td>\n",
       "      <td>156.520714</td>\n",
       "    </tr>\n",
       "  </tbody>\n",
       "</table>\n",
       "</div>"
      ]
     },
     "metadata": {},
     "output_type": "display_data"
    },
    {
     "name": "stdout",
     "output_type": "stream",
     "text": [
      "\n",
      "ANOVA Results:\n"
     ]
    },
    {
     "data": {
      "text/plain": [
       "     F-statistic       p-value\n",
       "GHI  2090.092870  0.000000e+00\n",
       "DNI  5940.054317  0.000000e+00\n",
       "DHI    39.558753  6.611238e-18"
      ],
      "text/html": [
       "<div>\n",
       "<style scoped>\n",
       "    .dataframe tbody tr th:only-of-type {\n",
       "        vertical-align: middle;\n",
       "    }\n",
       "\n",
       "    .dataframe tbody tr th {\n",
       "        vertical-align: top;\n",
       "    }\n",
       "\n",
       "    .dataframe thead th {\n",
       "        text-align: right;\n",
       "    }\n",
       "</style>\n",
       "<table border=\"1\" class=\"dataframe\">\n",
       "  <thead>\n",
       "    <tr style=\"text-align: right;\">\n",
       "      <th></th>\n",
       "      <th>F-statistic</th>\n",
       "      <th>p-value</th>\n",
       "    </tr>\n",
       "  </thead>\n",
       "  <tbody>\n",
       "    <tr>\n",
       "      <th>GHI</th>\n",
       "      <td>2090.092870</td>\n",
       "      <td>0.000000e+00</td>\n",
       "    </tr>\n",
       "    <tr>\n",
       "      <th>DNI</th>\n",
       "      <td>5940.054317</td>\n",
       "      <td>0.000000e+00</td>\n",
       "    </tr>\n",
       "    <tr>\n",
       "      <th>DHI</th>\n",
       "      <td>39.558753</td>\n",
       "      <td>6.611238e-18</td>\n",
       "    </tr>\n",
       "  </tbody>\n",
       "</table>\n",
       "</div>"
      ]
     },
     "metadata": {},
     "output_type": "display_data"
    }
   ],
   "execution_count": 7
  },
  {
   "cell_type": "markdown",
   "metadata": {},
   "source": [
    "## Visualisation of the comparison of countries"
   ]
  },
  {
   "cell_type": "code",
   "metadata": {
    "ExecuteTime": {
     "end_time": "2025-05-21T09:26:08.783872Z",
     "start_time": "2025-05-21T09:25:59.506306Z"
    }
   },
   "source": [
    "# Generate visualizations\n",
    "visualizer = VisualizationManager([benin, sierraleone, togo])\n",
    "visualizer.plot_boxplots()"
   ],
   "outputs": [
    {
     "data": {
      "text/plain": [
       "<Figure size 800x600 with 1 Axes>"
      ],
      "image/png": "[encoded data removed]"
     },
     "metadata": {},
     "output_type": "display_data"
    },
    {
     "data": {
      "text/plain": [
       "<Figure size 800x600 with 1 Axes>"
      ],
      "image/png": "[encoded data removed]"
     },
     "metadata": {},
     "output_type": "display_data"
    },
    {
     "data": {
      "text/plain": [
       "<Figure size 800x600 with 1 Axes>"
      ],
      "image/png": "[encoded data removed]"
     },
     "metadata": {},
     "output_type": "display_data"
    }
   ],
   "execution_count": 8
  },
  {
   "cell_type": "markdown",
   "metadata": {},
   "source": [
    "## Visual Summary: Ranking by Average GHI\n"
   ]
  },
  {
   "cell_type": "code",
   "metadata": {
    "ExecuteTime": {
     "end_time": "2025-05-21T09:26:17.409304Z",
     "start_time": "2025-05-21T09:26:17.231622Z"
    }
   },
   "source": [
    "visualizer.bar_chart()"
   ],
   "outputs": [
    {
     "data": {
      "text/plain": [
       "<Figure size 600x400 with 1 Axes>"
      ],
      "image/png": "[encoded data removed]"
     },
     "metadata": {},
     "output_type": "display_data"
    }
   ],
   "execution_count": 9
  }
 ],
 "metadata": {
  "kernelspec": {
   "display_name": ".myenv",
   "language": "python",
   "name": "python3"
  },
  "language_info": {
   "codemirror_mode": {
    "name": "ipython",
    "version": 3
   },
   "file_extension": ".py",
   "mimetype": "text/x-python",
   "name": "python",
   "nbconvert_exporter": "python",
   "pygments_lexer": "ipython3",
   "version": "3.12.6"
  }
 },
 "nbformat": 4,
 "nbformat_minor": 2
}
